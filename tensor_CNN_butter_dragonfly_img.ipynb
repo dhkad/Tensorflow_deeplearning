{
 "cells": [
  {
   "cell_type": "code",
   "execution_count": 1,
   "metadata": {},
   "outputs": [],
   "source": [
    "import tensorflow as tf\n",
    "from tensorflow.keras.models import Sequential\n",
    "from tensorflow.keras.layers import Conv2D, Activation, Dense, Flatten,MaxPooling2D\n",
    "import numpy as np\n",
    "import matplotlib.pyplot as plt\n",
    "import os\n",
    "import cv2\n",
    "from tensorflow.keras.callbacks import TensorBoard\n",
    "import time\n",
    "import pickle\n",
    "name=\"BD_cnn_{}\".format(int(time.time()))"
   ]
  },
  {
   "cell_type": "code",
   "execution_count": 2,
   "metadata": {},
   "outputs": [],
   "source": [
    "tensorboard=TensorBoard(log_dir=\"log\\{}\".format(name))# to have different name for the model each run"
   ]
  },
  {
   "cell_type": "code",
   "execution_count": 3,
   "metadata": {},
   "outputs": [],
   "source": [
    "dir1 = r\"C:\\Users\\Dhifaf\\Documents\\butterfly_dragon\"\n",
    "categories=[\"butterfly\",\"dragonfly\"]  "
   ]
  },
  {
   "cell_type": "code",
   "execution_count": 4,
   "metadata": {},
   "outputs": [],
   "source": [
    "imgsize=50"
   ]
  },
  {
   "cell_type": "code",
   "execution_count": 5,
   "metadata": {},
   "outputs": [],
   "source": [
    "train_data=[]\n",
    "def training_data():\n",
    "    for category in categories:\n",
    "        path=os.path.join(dir1, category)\n",
    "        y=categories.index(category)\n",
    "        for img in os.listdir(path):\n",
    "            try:\n",
    "                img_arr=cv2.imread(os.path.join(path,img),cv2.IMREAD_GRAYSCALE)\n",
    "                new_arr=cv2.resize(img_arr,(imgsize,imgsize))\n",
    "                train_data.append([new_arr,y])\n",
    "            except Exception as e:\n",
    "                pass\n",
    "           "
   ]
  },
  {
   "cell_type": "code",
   "execution_count": 6,
   "metadata": {},
   "outputs": [],
   "source": [
    "training_data()"
   ]
  },
  {
   "cell_type": "code",
   "execution_count": 7,
   "metadata": {},
   "outputs": [],
   "source": [
    "import random\n",
    "random.shuffle(train_data)"
   ]
  },
  {
   "cell_type": "code",
   "execution_count": 14,
   "metadata": {},
   "outputs": [],
   "source": [
    "x=[]\n",
    "y=[]\n",
    "for xt, yt in train_data:\n",
    "    x.append(xt)\n",
    "    y.append(yt)\n",
    "\n",
    "x=np.array(x) \n",
    "\n",
    "x = np.array(x).reshape(-1, imgsize, imgsize, 1)\n",
    "y=np.array(y)\n",
    "\n",
    "#x=x/255.0"
   ]
  },
  {
   "cell_type": "code",
   "execution_count": 9,
   "metadata": {},
   "outputs": [],
   "source": [
    "#CONSTRUCT THE CONV. NN\n",
    "model = Sequential()\n",
    "model.add(Conv2D(256, (3, 3), input_shape=x.shape[1:]))\n",
    "model.add(Activation('relu'))\n",
    "model.add(MaxPooling2D(pool_size=(2, 2)))\n",
    "\n",
    "model.add(Conv2D(256, (3, 3)))\n",
    "model.add(Activation('relu'))\n",
    "model.add(MaxPooling2D(pool_size=(2, 2)))\n",
    "\n",
    "model.add(Flatten())  #  3D feature maps to 1D feature vectors\n",
    "\n",
    "model.add(Dense(64))\n",
    "\n",
    "model.add(Dense(1))\n",
    "model.add(Activation('sigmoid'))\n",
    "\n",
    "model.compile(loss='binary_crossentropy',\n",
    "              optimizer='adam',\n",
    "              metrics=['accuracy'])"
   ]
  },
  {
   "cell_type": "code",
   "execution_count": 13,
   "metadata": {},
   "outputs": [
    {
     "name": "stdout",
     "output_type": "stream",
     "text": [
      "Train on 111 samples, validate on 48 samples\n",
      "Epoch 1/3\n",
      "111/111 [==============================] - 4s 32ms/sample - loss: 0.3925 - accuracy: 0.8739 - val_loss: 0.6289 - val_accuracy: 0.6250\n",
      "Epoch 2/3\n",
      "111/111 [==============================] - 4s 32ms/sample - loss: 0.3413 - accuracy: 0.9099 - val_loss: 1.1394 - val_accuracy: 0.5625\n",
      "Epoch 3/3\n",
      "111/111 [==============================] - 3s 31ms/sample - loss: 0.2591 - accuracy: 0.8739 - val_loss: 0.5673 - val_accuracy: 0.8125\n",
      "INFO:tensorflow:Assets written to: C:\\Users\\Dhifaf\\Documents\\butterfly_dragon\\assets\n",
      "Model: \"sequential\"\n",
      "_________________________________________________________________\n",
      "Layer (type)                 Output Shape              Param #   \n",
      "=================================================================\n",
      "conv2d (Conv2D)              (None, 48, 48, 256)       2560      \n",
      "_________________________________________________________________\n",
      "activation (Activation)      (None, 48, 48, 256)       0         \n",
      "_________________________________________________________________\n",
      "max_pooling2d (MaxPooling2D) (None, 24, 24, 256)       0         \n",
      "_________________________________________________________________\n",
      "conv2d_1 (Conv2D)            (None, 22, 22, 256)       590080    \n",
      "_________________________________________________________________\n",
      "activation_1 (Activation)    (None, 22, 22, 256)       0         \n",
      "_________________________________________________________________\n",
      "max_pooling2d_1 (MaxPooling2 (None, 11, 11, 256)       0         \n",
      "_________________________________________________________________\n",
      "flatten (Flatten)            (None, 30976)             0         \n",
      "_________________________________________________________________\n",
      "dense (Dense)                (None, 64)                1982528   \n",
      "_________________________________________________________________\n",
      "dense_1 (Dense)              (None, 1)                 65        \n",
      "_________________________________________________________________\n",
      "activation_2 (Activation)    (None, 1)                 0         \n",
      "=================================================================\n",
      "Total params: 2,575,233\n",
      "Trainable params: 2,575,233\n",
      "Non-trainable params: 0\n",
      "_________________________________________________________________\n"
     ]
    }
   ],
   "source": [
    "model.fit(x, y, batch_size=32, epochs=3, validation_split=0.3,callbacks=[tensorboard])\n",
    "model.save(r\"C:\\Users\\Dhifaf\\Documents\\butterfly_dragon\")\n",
    "model.summary()"
   ]
  }
 ],
 "metadata": {
  "kernelspec": {
   "display_name": "Python 3",
   "language": "python",
   "name": "python3"
  },
  "language_info": {
   "codemirror_mode": {
    "name": "ipython",
    "version": 3
   },
   "file_extension": ".py",
   "mimetype": "text/x-python",
   "name": "python",
   "nbconvert_exporter": "python",
   "pygments_lexer": "ipython3",
   "version": "3.7.6"
  }
 },
 "nbformat": 4,
 "nbformat_minor": 4
}
